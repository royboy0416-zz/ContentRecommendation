{
  "cells": [
    {
      "metadata": {
        "trusted": true
      },
      "cell_type": "code",
      "source": "from azureml.core import Workspace\n\nws = Workspace.from_config()\n\nprint(\"Workspace Name:\", ws.name, \"\\nResouce Group:\", ws.resource_group, \"\\nRegion \", ws.location)",
      "execution_count": null,
      "outputs": []
    },
    {
      "metadata": {
        "trusted": true
      },
      "cell_type": "code",
      "source": "import pandas as pd\nfrom azureml.core import Workspace\n\ntry:\n    del ct_list\n    ct_list = pd.DataFrame({'compute_name':[], 'compute_type':[]})\nexcept:\n    ct_list = pd.DataFrame({'compute_name':[], 'compute_type':[]})\n\nfor i in ws.compute_targets:\n    ct_list = ct_list.append({'compute_name': i, 'compute_type': type(ws.compute_targets.get(i)).__name__}, ignore_index=True)\n\nct_list",
      "execution_count": null,
      "outputs": []
    },
    {
      "metadata": {
        "trusted": true
      },
      "cell_type": "code",
      "source": "from azureml.core import ComputeTarget\n\n\ncompute_name = 'amlcompute-cpu' # Input your compute type in your AML Service Workspace\n\ncompute_target = ComputeTarget(workspace=ws, name=compute_name)",
      "execution_count": null,
      "outputs": []
    },
    {
      "metadata": {
        "trusted": true
      },
      "cell_type": "code",
      "source": "import urllib.request\nimport os\n\nurllib.request.urlretrieve('https://storage.googleapis.com/kaggle-datasets/5622/8391/items.txt?GoogleAccessId=web-data@kaggle-161607.iam.gserviceaccount.com&Expires=1560647671&Signature=gUCwfrk%2F8mwWbjs5qAtQTo%2Bojv2PkUp8BTvn4U%2ByiKto28ZNFHw1qF8Ex3WzozZno4HaMuIbTF0zllnwI0dQsqeZw0lDrrkXv4R6b%2B8683kmJO34hgYd3pt5co18T0wg7L%2BpZsnk4yfp78HSfYL%2Fojoqici5tzHY6yfBKXi3yxRvel3rplWwimgfk59zFCjEeRQol2oi1cWzJcaynoz2zszrhTbjqKsgE%2BpWCj3qlv9EWa5gV6bZgnogs%2B%2FpKNLi9RLLl8ZC%2FcYWPE7RJFbuLGJuyPL6SBMhvihWsQeWTxQdXFRnC8nZppmTDUYbCfvC3hMyCFUHfkNZSauG8IzEtg%3D%3D'\n                           , filename='items.txt')\nurllib.request.urlretrieve('https://storage.googleapis.com/kaggle-datasets/5622/8391/ratings.txt?GoogleAccessId=web-data@kaggle-161607.iam.gserviceaccount.com&Expires=1560647964&Signature=GvNP1A%2BWZKnChy3wA6TTA93eXmeB%2BExr3druLgpLFKPr9FozFvmgKp092nCd24Qxxq7EEJiNnhGZx4qPsRRo0i3CLThKgiE%2BBdKJTX8F1rOn6MU5W18J3mL0YT11DoxPT7vetCA2htMoaXUBdhO8VCOgRsdhKh2CXviflk%2BFsKR2%2FdAbPHqv7eahTEaYlyoDbsxGOkvdxhD8N62rsaVX%2BBh0nmadb7yzZRMaAlW0GLYcvP14mpIcSHA19cKllqoFNVTqTG5Ev2QTPrBkyg8fvLJcokYEnKVRX2HKgVlfkzHNiRBkBhkdsRG6yVcky5wB%2B4Nq1ZnjdsfZYn0iVztChQ%3D%3D'\n                           , filename='ratings.txt')\nurllib.request.urlretrieve('https://storage.googleapis.com/kaggle-datasets/5622/8391/usersDescription.txt?GoogleAccessId=web-data@kaggle-161607.iam.gserviceaccount.com&Expires=1560647988&Signature=FVsfuN%2Bb1VBWCwRjWP9A0PbyAphCzyjjfhllWa98zLoPoOk1Zo1MNkM2UlyBZzFBAfFLCPBtGGJgSDIt7A9RuLXx5fE48qBk%2Fr8GAnQfMSyTqFcOwbh6fcniWp0ZJjFF8CEB0MRX5D5u4RjWXnnu6dhhcIgh0v%2FlfDvSEIW4WUr1oyTDOE5p2OXHYaxbIhAsw7%2BgZAw0Pc5rm2IILdyelbqnGXBA6UmpwwmMPoH4%2Fm3vL0VK%2FRL4bQeO15GJ2TARU3W3TrlUlXg2ur2K0qfyDgy3PVOFzxChh35zIU9vvHEnbuxlQGZ9ZssadImzjc5GMzGuspu6%2Fg9L2yod0%2BEXRg%3D%3D'\n                           , filename='userDescription.txt')",
      "execution_count": null,
      "outputs": []
    },
    {
      "metadata": {
        "trusted": true
      },
      "cell_type": "code",
      "source": "import pandas as pd\n\npd.set_option('display.max_columns', 100)\n\nitems_df = pd.read_csv('./items.txt', sep=';', header=None)\nratings_df = pd.read_csv('./ratings.txt', sep=';', header=None)\nuserD_df = pd.read_csv('./userDescription.txt', sep=';', header=None)\n\nitems = items_df.rename(columns={0:'itemId', 1:'itemDesc'})\nfor i in range(1,9):\n    items = items.rename(columns={i+2:'item'+str(i)})\n\nratings = ratings_df.rename(columns={0:'contextId', 1:'itemId', 2:'rating', 3:'userId'})\n\nuserD = userD_df.rename(columns={0:'contextId', 1:'age', 2:'man', 3:'woman', 50:'userId'})\nfor i in range(1,14):\n    userD = userD.rename(columns={i+3:'SPC'+str(i)})\nfor i in range(1,14):\n    userD = userD.rename(columns={i+16:'userSpecialty'+str(i)})\nfor i in range(1,11):\n    userD = userD.rename(columns={i+29:'userPreference'+str(i)})\nfor i in range(1,9):\n    userD = userD.rename(columns={i+39:'userHighDegree'+str(i)})\nfor i in range(1,3):\n    userD = userD.rename(columns={i+47:'weatherSeason'+str(i)})",
      "execution_count": null,
      "outputs": []
    },
    {
      "metadata": {
        "trusted": true
      },
      "cell_type": "code",
      "source": "items.head(5)",
      "execution_count": null,
      "outputs": []
    },
    {
      "metadata": {
        "trusted": true
      },
      "cell_type": "code",
      "source": "ratings.head(5)",
      "execution_count": null,
      "outputs": []
    },
    {
      "metadata": {
        "trusted": true
      },
      "cell_type": "code",
      "source": "userD.head(5)",
      "execution_count": null,
      "outputs": []
    },
    {
      "metadata": {
        "trusted": true
      },
      "cell_type": "code",
      "source": "",
      "execution_count": null,
      "outputs": []
    }
  ],
  "metadata": {
    "kernelspec": {
      "name": "python36",
      "display_name": "Python 3.6",
      "language": "python"
    },
    "language_info": {
      "mimetype": "text/x-python",
      "nbconvert_exporter": "python",
      "name": "python",
      "pygments_lexer": "ipython3",
      "version": "3.6.6",
      "file_extension": ".py",
      "codemirror_mode": {
        "version": 3,
        "name": "ipython"
      }
    }
  },
  "nbformat": 4,
  "nbformat_minor": 2
}